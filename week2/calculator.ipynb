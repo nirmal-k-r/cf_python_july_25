{
 "cells": [
  {
   "cell_type": "code",
   "execution_count": null,
   "id": "e97e02bc",
   "metadata": {},
   "outputs": [
    {
     "name": "stdout",
     "output_type": "stream",
     "text": [
      "Total marks: 350\n",
      "Grade: C\n"
     ]
    }
   ],
   "source": [
    "num_subjects = int(input(\"Enter number of subjects: \"))\n",
    "\n",
    "total_marks = 0\n",
    "\n",
    "for subject_num in range(num_subjects):\n",
    "    mark= int(input(f\"Enter the mark for subject {subject_num}\"))\n",
    "    total_marks=total_marks + mark\n",
    "\n",
    "average = total_marks / num_subjects\n",
    "print(f\"Total marks: {total_marks}\")\n",
    "print(f\"Average marks: {average:.2f}\")\n",
    "\n",
    "\n",
    "if average >= 90:\n",
    "    print(\"Grade: A\")\n",
    "elif average >= 80:\n",
    "    print(\"Grade: B\")\n",
    "elif average >= 70:\n",
    "    print(\"Grade: C\")\n",
    "elif average >= 60:\n",
    "    print(\"Grade: D\")\n",
    "else:\n",
    "    print(\"Grade: F\")\n"
   ]
  },
  {
   "cell_type": "code",
   "execution_count": null,
   "id": "afbb8497",
   "metadata": {},
   "outputs": [
    {
     "name": "stdout",
     "output_type": "stream",
     "text": [
      "Total marks: 240\n",
      "Average marks: 80.00\n",
      "Grade: B\n"
     ]
    }
   ],
   "source": [
    "num_subjects = int(input(\"Enter number of subjects: \"))\n",
    "\n",
    "total_marks = 0\n",
    "i=0 #counter variable\n",
    "\n",
    "while i < num_subjects:\n",
    "    mark= int(input(f\"Enter the mark for subject {i}\"))\n",
    "    total_marks=total_marks + mark\n",
    "    i=i+1\n",
    "\n",
    "average = total_marks / num_subjects\n",
    "print(f\"Total marks: {total_marks}\")\n",
    "print(f\"Average marks: {average:.2f}\")\n",
    "\n",
    "\n",
    "if average >= 90:\n",
    "    print(\"Grade: A\")\n",
    "elif average >= 80:\n",
    "    print(\"Grade: B\")\n",
    "elif average >= 70:\n",
    "    print(\"Grade: C\")\n",
    "elif average >= 60:\n",
    "    print(\"Grade: D\")\n",
    "else:\n",
    "    print(\"Grade: F\")\n"
   ]
  },
  {
   "cell_type": "code",
   "execution_count": null,
   "id": "c13338f3",
   "metadata": {},
   "outputs": [],
   "source": [
    "for i in range(5):\n",
    "    for j in range(5,1,-1): #nested loop\n",
    "        print(i,j)"
   ]
  }
 ],
 "metadata": {
  "kernelspec": {
   "display_name": "Python 3",
   "language": "python",
   "name": "python3"
  },
  "language_info": {
   "codemirror_mode": {
    "name": "ipython",
    "version": 3
   },
   "file_extension": ".py",
   "mimetype": "text/x-python",
   "name": "python",
   "nbconvert_exporter": "python",
   "pygments_lexer": "ipython3",
   "version": "3.13.5"
  }
 },
 "nbformat": 4,
 "nbformat_minor": 5
}
