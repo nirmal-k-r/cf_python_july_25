{
 "cells": [
  {
   "cell_type": "code",
   "execution_count": null,
   "metadata": {},
   "outputs": [
    {
     "name": "stdout",
     "output_type": "stream",
     "text": [
      "alice\n"
     ]
    }
   ],
   "source": [
    "name=\"alice\"\n",
    "print(name)\n",
    "\n",
    "# int\n",
    "# float\n",
    "# boolean\n",
    "\n",
    "# number = True\n",
    "# type(number)\n",
    "\n",
    "#naming conventions for variables:\n",
    "# cannot start with a number\n",
    "# cannot have spaces\n",
    "fullNameFamily = \"Alice Smith\" \n",
    "full_name_family = \"Alice Smith\"\n",
    "\n",
    "\n",
    "\n",
    "#start\n",
    "\n",
    "\n",
    "\n"
   ]
  },
  {
   "cell_type": "code",
   "execution_count": 9,
   "metadata": {},
   "outputs": [
    {
     "name": "stdout",
     "output_type": "stream",
     "text": [
      "20\n"
     ]
    }
   ],
   "source": [
    "x = 10\n",
    "y = 2\n",
    "v = 10 * 2\n",
    "print(v)  "
   ]
  },
  {
   "cell_type": "code",
   "execution_count": 10,
   "metadata": {},
   "outputs": [
    {
     "name": "stdout",
     "output_type": "stream",
     "text": [
      "20\n"
     ]
    }
   ],
   "source": [
    "# This is for calculating the total price of products\n",
    "numberProducts = 10\n",
    "priceProduct = 2\n",
    "\n",
    "totalPrice = numberProducts * priceProduct\n",
    "print(totalPrice)"
   ]
  },
  {
   "cell_type": "code",
   "execution_count": 16,
   "metadata": {},
   "outputs": [
    {
     "name": "stdout",
     "output_type": "stream",
     "text": [
      "20\n"
     ]
    }
   ],
   "source": [
    "numProducts =int(input(\"Enter numbe of products:\"))\n",
    "priceProduct =int(input(\"Enter price of product:\"))\n",
    "\n",
    "totalPrice = (numProducts) * (priceProduct)\n",
    "\n",
    "\n",
    "\n",
    "print(totalPrice)"
   ]
  },
  {
   "cell_type": "code",
   "execution_count": 19,
   "metadata": {},
   "outputs": [
    {
     "name": "stdout",
     "output_type": "stream",
     "text": [
      "7\n",
      "difference 3\n",
      "product 10\n",
      "quotient 2.5\n",
      "modulus 1\n",
      "2\n"
     ]
    }
   ],
   "source": [
    "#sum\n",
    "num1=   5\n",
    "num2=   2\n",
    "sum = num1 + num2\n",
    "print(sum)\n",
    "\n",
    "#difference\n",
    "difference = num1 - num2\n",
    "print(\"difference\",difference)\n",
    "#product\n",
    "product = num1 * num2\n",
    "print(\"product\",product)\n",
    "#quotient\n",
    "quotient = num1 / num2\n",
    "\n",
    "print(\"quotient\",quotient)\n",
    "#modulus\n",
    "modulus = num1 % num2\n",
    "print(\"modulus\",modulus)\n",
    "\n",
    "val = num1//num2\n",
    "print(val)"
   ]
  },
  {
   "cell_type": "code",
   "execution_count": 26,
   "metadata": {},
   "outputs": [
    {
     "name": "stdout",
     "output_type": "stream",
     "text": [
      "Hi i am  Bob and I am 30 years old. height is 5.5 and I am a student: True and my car is toyota\n",
      "Hi I am Bob and I am 30 years old. Height is 5.5 and I am a student: True and my car is toyota\n",
      "Hi I am Bob and I am 30 years old. Height is 5.5 and I am a student: True and my car is toyota\n",
      "Hi I am Bob and I am 30 years old. Height is 5.5 and I am a student: True and my car is toyota. Bob is a boy\n"
     ]
    }
   ],
   "source": [
    "name = \"Bob\"\n",
    "age = 30\n",
    "height = 5.5\n",
    "is_student = True\n",
    "car = \"toyota\"\n",
    "\n",
    "\n",
    "print(\"Hi i am \", name, \"and I am\", age, \"years old.\",\"height is\", height, \"and I am a student:\", is_student, \"and my car is\", car)\n",
    "\n",
    "#fstrings\n",
    "print(f\"Hi I am {name} and I am {age} years old. Height is {height} and I am a student: {is_student} and my car is {car}\")\n",
    "\n",
    "#formatted strings\n",
    "print(\"Hi I am {} and I am {} years old. Height is {} and I am a student: {} and my car is {}\".format(name, age, height, is_student, car))\n",
    "\n",
    "#formatted strings with named placeholders\n",
    "print(\"Hi I am {a} and I am {b} years old. Height is {c} and I am a student: {d} and my car is {e}. {a} is a boy\".format(a=name, b=age, c=height, d=is_student,e=car))\n",
    "\n",
    "# Concatenation\n",
    "# need to convert non-string types to string\n",
    "#print(\"hi i am\" + name + \" and I am \" + age + \" years old. Height is \" + height + \" and I am a student: \" + str(is_student) + \" and my car is \" + car)"
   ]
  },
  {
   "cell_type": "code",
   "execution_count": null,
   "metadata": {},
   "outputs": [
    {
     "name": "stdout",
     "output_type": "stream",
     "text": [
      "True\n"
     ]
    }
   ],
   "source": [
    "# Equal to\n",
    "2 == 2  # Output: True\n",
    "\n",
    "# Not equal to\n",
    "2 != 3  # Output: True\n",
    "\n",
    "# Less than\n",
    "5 < 10  # Output: True\n",
    "\n",
    "# Greater than\n",
    "10 > 5  # Output: True\n",
    "\n",
    "# Less than or equal to\n",
    "5 <= 5  # Output: True\n",
    "\n",
    "# Greater than or equal to\n",
    "10 >= 10  # Output: True\n",
    "\n",
    "print(10<=10)\n",
    "\n",
    "# Logical Operators"
   ]
  },
  {
   "cell_type": "code",
   "execution_count": 35,
   "metadata": {},
   "outputs": [
    {
     "name": "stdout",
     "output_type": "stream",
     "text": [
      "Turn on AC\n"
     ]
    }
   ],
   "source": [
    "#ac activation in room\n",
    "\n",
    "roomtemp = 20\n",
    "if roomtemp == 20:\n",
    "    print(\"Turn on AC\")   \n",
    "elif roomtemp < 10:\n",
    "    print(\"Turn off AC\")\n",
    "else:\n",
    "    print(\"AC is not needed\")\n",
    "\n"
   ]
  },
  {
   "cell_type": "code",
   "execution_count": null,
   "metadata": {},
   "outputs": [
    {
     "name": "stdout",
     "output_type": "stream",
     "text": [
      "1\n",
      "2\n",
      "3\n",
      "4\n"
     ]
    }
   ],
   "source": [
    "# #for loop\n",
    "# for i in range(1,5):\n",
    "#     print(i)\n",
    "\n",
    "# while loop\n",
    "i = 1  \n",
    "while i < 5:\n",
    "    print(i)\n",
    "    i += 1  # Increment i by 1"
   ]
  },
  {
   "cell_type": "code",
   "execution_count": null,
   "metadata": {},
   "outputs": [],
   "source": [
    "while True:\n",
    "    print(\"This is an infinite loop\")\n",
    "\n",
    "    if (i == 3):\n",
    "        print(\"Breaking the loop at i =\", i)\n",
    "        break  # Breaks the loop immediately"
   ]
  },
  {
   "cell_type": "code",
   "execution_count": 41,
   "metadata": {},
   "outputs": [
    {
     "name": "stdout",
     "output_type": "stream",
     "text": [
      "Value is something else\n"
     ]
    }
   ],
   "source": [
    "#match case\n",
    "value = 20\n",
    "match value:\n",
    "    case 1:\n",
    "        print(\"Value is 1\")\n",
    "    case 2:     \n",
    "        print(\"Value is 2\")\n",
    "    case _:\n",
    "        print(\"Value is something else\")\n",
    "\n",
    "        "
   ]
  },
  {
   "cell_type": "code",
   "execution_count": 47,
   "metadata": {},
   "outputs": [
    {
     "name": "stdout",
     "output_type": "stream",
     "text": [
      "Meet condition\n"
     ]
    }
   ],
   "source": [
    "val=50\n",
    "# if (val > 10 and val < 30):\n",
    "#     print(\"Meet condition\")\n",
    "\n",
    " #OR\n",
    "if (val < 10) or not(val > 30):\n",
    "    print(\"not example\")   \n",
    "\n",
    "if (False or True):\n",
    "    print(\"Meet condition\")           \n",
    "\n",
    "#OR:\n",
    "# true true - true\n",
    "# true false - true\n",
    "# false true - true\n",
    "# false false - false\n",
    "\n",
    "#AND\n",
    "# true true - true\n",
    "# true false - false\n",
    "# false true - false\n",
    "# false false - false"
   ]
  },
  {
   "cell_type": "code",
   "execution_count": 50,
   "metadata": {},
   "outputs": [
    {
     "name": "stdout",
     "output_type": "stream",
     "text": [
      "0\n",
      "1\n",
      "2\n",
      "Breaking the loop at i = 3\n"
     ]
    }
   ],
   "source": [
    "i = 0\n",
    "\n",
    "while i < 10:\n",
    "    print(i)\n",
    "    i += 1\n",
    "    \n",
    "    if (i == 3):\n",
    "        print(\"Breaking the loop at i =\", i)\n",
    "        break\n",
    "\n"
   ]
  }
 ],
 "metadata": {
  "kernelspec": {
   "display_name": "Python 3",
   "language": "python",
   "name": "python3"
  },
  "language_info": {
   "codemirror_mode": {
    "name": "ipython",
    "version": 3
   },
   "file_extension": ".py",
   "mimetype": "text/x-python",
   "name": "python",
   "nbconvert_exporter": "python",
   "pygments_lexer": "ipython3",
   "version": "3.12.3"
  }
 },
 "nbformat": 4,
 "nbformat_minor": 2
}
