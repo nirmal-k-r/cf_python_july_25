{
 "cells": [
  {
   "cell_type": "code",
   "execution_count": null,
   "id": "78b9d738",
   "metadata": {},
   "outputs": [],
   "source": [
    "# marks=[10,20,30,40,50,60] #list of marks\n",
    "\n",
    "marks=(10,20,30,40,50,60) #tuple of marks - use () instead of [] to define a tuple"
   ]
  },
  {
   "cell_type": "code",
   "execution_count": 2,
   "id": "e2f525d3",
   "metadata": {},
   "outputs": [
    {
     "name": "stdout",
     "output_type": "stream",
     "text": [
      "(10, 20, 30, 40, 50, 60)\n"
     ]
    }
   ],
   "source": [
    "print(marks) #original list remains unchanged"
   ]
  },
  {
   "cell_type": "code",
   "execution_count": null,
   "id": "79dc0d72",
   "metadata": {},
   "outputs": [
    {
     "name": "stdout",
     "output_type": "stream",
     "text": [
      "40\n"
     ]
    }
   ],
   "source": [
    "print(marks[3]) #accessing the 4th element of the tuple - still. use square brackets to access elements in a tuple"
   ]
  },
  {
   "cell_type": "code",
   "execution_count": 4,
   "id": "8d2de03a",
   "metadata": {},
   "outputs": [
    {
     "ename": "SyntaxError",
     "evalue": "cannot assign to function call here. Maybe you meant '==' instead of '='? (3543911706.py, line 1)",
     "output_type": "error",
     "traceback": [
      "  \u001b[36mCell\u001b[39m\u001b[36m \u001b[39m\u001b[32mIn[4]\u001b[39m\u001b[32m, line 1\u001b[39m\n\u001b[31m    \u001b[39m\u001b[31mmarks(0)=100 #trying to change the first element of the tuple - this will raise an error because tuples are immutable\u001b[39m\n    ^\n\u001b[31mSyntaxError\u001b[39m\u001b[31m:\u001b[39m cannot assign to function call here. Maybe you meant '==' instead of '='?\n"
     ]
    }
   ],
   "source": [
    "marks(0)=100 #trying to change the first element of the tuple - this will raise an error because tuples are immutable"
   ]
  },
  {
   "cell_type": "code",
   "execution_count": 5,
   "id": "3a303222",
   "metadata": {},
   "outputs": [
    {
     "ename": "AttributeError",
     "evalue": "'tuple' object has no attribute 'append'",
     "output_type": "error",
     "traceback": [
      "\u001b[31m---------------------------------------------------------------------------\u001b[39m",
      "\u001b[31mAttributeError\u001b[39m                            Traceback (most recent call last)",
      "\u001b[36mCell\u001b[39m\u001b[36m \u001b[39m\u001b[32mIn[5]\u001b[39m\u001b[32m, line 1\u001b[39m\n\u001b[32m----> \u001b[39m\u001b[32m1\u001b[39m \u001b[43mmarks\u001b[49m\u001b[43m.\u001b[49m\u001b[43mappend\u001b[49m(\u001b[32m70\u001b[39m) \u001b[38;5;66;03m#trying to append a new element to the tuple - this will raise an error because tuples are immutable\u001b[39;00m\n",
      "\u001b[31mAttributeError\u001b[39m: 'tuple' object has no attribute 'append'"
     ]
    }
   ],
   "source": [
    "marks.append(70) #trying to append a new element to the tuple - this will raise an error because tuples are immutable"
   ]
  },
  {
   "cell_type": "code",
   "execution_count": 6,
   "id": "f4a36d98",
   "metadata": {},
   "outputs": [
    {
     "ename": "AttributeError",
     "evalue": "'tuple' object has no attribute 'pop'",
     "output_type": "error",
     "traceback": [
      "\u001b[31m---------------------------------------------------------------------------\u001b[39m",
      "\u001b[31mAttributeError\u001b[39m                            Traceback (most recent call last)",
      "\u001b[36mCell\u001b[39m\u001b[36m \u001b[39m\u001b[32mIn[6]\u001b[39m\u001b[32m, line 1\u001b[39m\n\u001b[32m----> \u001b[39m\u001b[32m1\u001b[39m \u001b[43mmarks\u001b[49m\u001b[43m.\u001b[49m\u001b[43mpop\u001b[49m() \u001b[38;5;66;03m#trying to remove the last element of the tuple - this will raise an error because tuples are immutable\u001b[39;00m\n",
      "\u001b[31mAttributeError\u001b[39m: 'tuple' object has no attribute 'pop'"
     ]
    }
   ],
   "source": [
    "marks.pop() #trying to remove the last element of the tuple - this will raise an error because tuples are immutable"
   ]
  },
  {
   "cell_type": "code",
   "execution_count": 7,
   "id": "d212313c",
   "metadata": {},
   "outputs": [
    {
     "name": "stdout",
     "output_type": "stream",
     "text": [
      "10\n",
      "20\n",
      "30\n",
      "40\n",
      "50\n",
      "60\n"
     ]
    }
   ],
   "source": [
    "for mark in marks:\n",
    "    print(mark) #iterating through the tuple and printing each element"
   ]
  }
 ],
 "metadata": {
  "kernelspec": {
   "display_name": "Python 3",
   "language": "python",
   "name": "python3"
  },
  "language_info": {
   "codemirror_mode": {
    "name": "ipython",
    "version": 3
   },
   "file_extension": ".py",
   "mimetype": "text/x-python",
   "name": "python",
   "nbconvert_exporter": "python",
   "pygments_lexer": "ipython3",
   "version": "3.13.4"
  }
 },
 "nbformat": 4,
 "nbformat_minor": 5
}
