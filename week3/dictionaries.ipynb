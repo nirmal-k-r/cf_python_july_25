{
 "cells": [
  {
   "cell_type": "code",
   "execution_count": 3,
   "id": "4c222baa",
   "metadata": {},
   "outputs": [
    {
     "name": "stdout",
     "output_type": "stream",
     "text": [
      "Found butter in the grocery list.\n",
      "butter is in the grocery list.\n"
     ]
    }
   ],
   "source": [
    "grocery_list=['milk', 'eggs', 'bread', 'butter', 'cheese']\n",
    "\n",
    "keyword='butter'\n",
    "for item in grocery_list:\n",
    "    if item == keyword:\n",
    "        print(f\"Found {keyword} in the grocery list.\")\n",
    "        break\n",
    "\n",
    "\n",
    "if keyword in grocery_list:\n",
    "    print(f\"{keyword} is in the grocery list.\")"
   ]
  },
  {
   "cell_type": "code",
   "execution_count": 4,
   "id": "825d7609",
   "metadata": {},
   "outputs": [
    {
     "name": "stdout",
     "output_type": "stream",
     "text": [
      "{'name': 'John', 'age': 30, 'city': 'New York'}\n"
     ]
    }
   ],
   "source": [
    "#dictionaries to key-value pairs\n",
    "\n",
    "person={\n",
    "    'name': 'John',\n",
    "    'age': 30,\n",
    "    'city': 'New York'\n",
    "}\n",
    "\n",
    "\n",
    "print(person)"
   ]
  },
  {
   "cell_type": "code",
   "execution_count": null,
   "id": "7f756cfb",
   "metadata": {},
   "outputs": [
    {
     "name": "stdout",
     "output_type": "stream",
     "text": [
      "30\n",
      "John\n",
      "New York\n"
     ]
    }
   ],
   "source": [
    "print(person['age']) # Accessing values using keys\n",
    "print(person['name'])\n",
    "print(person['city'])\n"
   ]
  },
  {
   "cell_type": "code",
   "execution_count": null,
   "id": "fbd737f5",
   "metadata": {},
   "outputs": [
    {
     "name": "stdout",
     "output_type": "stream",
     "text": [
      "85\n",
      "{'english': 85, 'maths': 90, 'science': 98, 'history': 80}\n"
     ]
    }
   ],
   "source": [
    "marks={\n",
    "    'english': 85,\n",
    "    'maths': 90,\n",
    "    'science': 95,\n",
    "    'history': 80\n",
    "}\n",
    "\n",
    "print(marks['english'])\n",
    "\n",
    "\n",
    "marks['science'] = 98 # Update the value for 'science' key in marks dictionary\n",
    "\n",
    "print(marks)"
   ]
  },
  {
   "cell_type": "code",
   "execution_count": 10,
   "id": "f93fab2a",
   "metadata": {},
   "outputs": [
    {
     "name": "stdout",
     "output_type": "stream",
     "text": [
      "['Math', 'Science', 'English']\n",
      "Science\n"
     ]
    }
   ],
   "source": [
    "students={\n",
    "    'Alice':{\n",
    "        'age': 20,\n",
    "        'subjects': ['Math', 'Science', 'English']\n",
    "    },\n",
    "    'Bob':{\n",
    "        'age': 22,\n",
    "        'subjects': ['History', 'Math', 'Art']\n",
    "    }\n",
    "}\n",
    "\n",
    "\n",
    "print(students['Alice']['subjects'])\n",
    "print(students['Alice']['subjects'][1])"
   ]
  },
  {
   "cell_type": "code",
   "execution_count": 11,
   "id": "1d0f2c0d",
   "metadata": {},
   "outputs": [
    {
     "name": "stdout",
     "output_type": "stream",
     "text": [
      "{'english': 85, 'maths': 90, 'science': 95, 'history': 80, 'geography': 88}\n"
     ]
    }
   ],
   "source": [
    "marks={\n",
    "    'english': 85,\n",
    "    'maths': 90,\n",
    "    'science': 95,\n",
    "    'history': 80\n",
    "}\n",
    "\n",
    "marks['geography'] = 88  # Adding a new key-value pair to the marks dictionary\n",
    "\n",
    "print(marks)\n"
   ]
  },
  {
   "cell_type": "code",
   "execution_count": 12,
   "id": "e8c91022",
   "metadata": {},
   "outputs": [
    {
     "name": "stdout",
     "output_type": "stream",
     "text": [
      "{'english': 85, 'maths': 90, 'science': 95}\n"
     ]
    }
   ],
   "source": [
    "marks={\n",
    "    'english': 85,\n",
    "    'maths': 90,\n",
    "    'science': 95,\n",
    "    'history': 80\n",
    "}\n",
    "\n",
    "\n",
    "del marks['history']  # Deleting the 'history' key-value pair from the marks dictionary\n",
    "\n",
    "print(marks)"
   ]
  },
  {
   "cell_type": "code",
   "execution_count": 13,
   "id": "67fee3a5",
   "metadata": {},
   "outputs": [
    {
     "name": "stdout",
     "output_type": "stream",
     "text": [
      "dict_keys(['english', 'maths', 'science', 'history'])\n"
     ]
    }
   ],
   "source": [
    "marks={\n",
    "    'english': 85,\n",
    "    'maths': 90,\n",
    "    'science': 95,\n",
    "    'history': 80\n",
    "}\n",
    "\n",
    "print(marks.keys())  # Displaying all keys in the marks dictionary"
   ]
  },
  {
   "cell_type": "code",
   "execution_count": 14,
   "id": "4167ca8d",
   "metadata": {},
   "outputs": [
    {
     "name": "stdout",
     "output_type": "stream",
     "text": [
      "dict_values([85, 90, 95, 80])\n"
     ]
    }
   ],
   "source": [
    "print(marks.values())"
   ]
  },
  {
   "cell_type": "code",
   "execution_count": 15,
   "id": "756b6bff",
   "metadata": {},
   "outputs": [
    {
     "name": "stdout",
     "output_type": "stream",
     "text": [
      "dict_items([('english', 85), ('maths', 90), ('science', 95), ('history', 80)])\n"
     ]
    }
   ],
   "source": [
    "print(marks.items())"
   ]
  },
  {
   "cell_type": "code",
   "execution_count": 16,
   "id": "6b1d262c",
   "metadata": {},
   "outputs": [
    {
     "name": "stdout",
     "output_type": "stream",
     "text": [
      "english 85\n",
      "maths 90\n",
      "science 95\n",
      "history 80\n"
     ]
    }
   ],
   "source": [
    "marks={\n",
    "    'english': 85,\n",
    "    'maths': 90,\n",
    "    'science': 95,\n",
    "    'history': 80\n",
    "}\n",
    "\n",
    "\n",
    "for key in marks:\n",
    "    print(key, marks[key])  # Displaying each key-value pair in the marks dictionary"
   ]
  },
  {
   "cell_type": "code",
   "execution_count": 17,
   "id": "5ad72768",
   "metadata": {},
   "outputs": [
    {
     "name": "stdout",
     "output_type": "stream",
     "text": [
      "english 85\n",
      "maths 90\n",
      "science 95\n",
      "history 80\n"
     ]
    }
   ],
   "source": [
    "for key,value in marks.items():\n",
    "    print(key, value)  # Displaying each key-value pair using items() method"
   ]
  },
  {
   "cell_type": "code",
   "execution_count": 18,
   "id": "5d275775",
   "metadata": {},
   "outputs": [
    {
     "name": "stdout",
     "output_type": "stream",
     "text": [
      "English marks are available.\n"
     ]
    }
   ],
   "source": [
    "marks={\n",
    "    'english': 85,\n",
    "    'maths': 90,\n",
    "    'science': 95,\n",
    "    'history': 80\n",
    "}\n",
    "\n",
    "if 'english' in marks:\n",
    "    print(\"English marks are available.\")"
   ]
  },
  {
   "cell_type": "code",
   "execution_count": 19,
   "id": "b74c1e26",
   "metadata": {},
   "outputs": [
    {
     "name": "stdout",
     "output_type": "stream",
     "text": [
      "{'abcd': True}\n"
     ]
    }
   ],
   "source": [
    "test={} #empty dictionary\n",
    "\n",
    "test['abcd']=True\n",
    "\n",
    "print(test)"
   ]
  },
  {
   "cell_type": "code",
   "execution_count": 6,
   "id": "4ded1147",
   "metadata": {},
   "outputs": [
    {
     "name": "stdout",
     "output_type": "stream",
     "text": [
      "Hello djkqd, your favourite number is 07\n"
     ]
    }
   ],
   "source": [
    "# Ex 17: Complex String Formatting\n",
    "\n",
    "name = input(\"Enter your name: \")\n",
    "number = int(input(\"Enter your favourite number: \"))\n",
    "\n",
    "formatted_number = f\"{number:02}\"   \n",
    "\n",
    "print(f\"Hello {name}, your favourite number is {formatted_number}\")"
   ]
  }
 ],
 "metadata": {
  "kernelspec": {
   "display_name": "Python 3",
   "language": "python",
   "name": "python3"
  },
  "language_info": {
   "codemirror_mode": {
    "name": "ipython",
    "version": 3
   },
   "file_extension": ".py",
   "mimetype": "text/x-python",
   "name": "python",
   "nbconvert_exporter": "python",
   "pygments_lexer": "ipython3",
   "version": "3.13.4"
  }
 },
 "nbformat": 4,
 "nbformat_minor": 5
}
