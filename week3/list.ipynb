{
 "cells": [
  {
   "cell_type": "code",
   "execution_count": null,
   "id": "a666ef84",
   "metadata": {},
   "outputs": [
    {
     "name": "stdout",
     "output_type": "stream",
     "text": [
      "1\n"
     ]
    }
   ],
   "source": [
    "data=1\n",
    "\n",
    "print(data)"
   ]
  },
  {
   "cell_type": "code",
   "execution_count": 3,
   "id": "2bbaf991",
   "metadata": {},
   "outputs": [
    {
     "name": "stdout",
     "output_type": "stream",
     "text": [
      "abcd \n"
     ]
    }
   ],
   "source": [
    "data=\"abcd \"\n",
    "print(data)"
   ]
  },
  {
   "cell_type": "code",
   "execution_count": null,
   "id": "846a6184",
   "metadata": {},
   "outputs": [],
   "source": [
    "marks1=90\n",
    "marks2=80\n",
    "marks3=70\n",
    "marks4=60\n",
    "marks5=50\n",
    "marks6=40"
   ]
  },
  {
   "cell_type": "code",
   "execution_count": 4,
   "id": "59b5eab0",
   "metadata": {},
   "outputs": [
    {
     "name": "stdout",
     "output_type": "stream",
     "text": [
      "[]\n"
     ]
    }
   ],
   "source": [
    "#list\n",
    "\n",
    "marks=[] #empty list\n",
    "\n",
    "print(marks)"
   ]
  },
  {
   "cell_type": "code",
   "execution_count": 5,
   "id": "75f2b271",
   "metadata": {},
   "outputs": [
    {
     "name": "stdout",
     "output_type": "stream",
     "text": [
      "[90, 80, 70, 60, 50, 40]\n"
     ]
    }
   ],
   "source": [
    "marks=[90,80,70,60,50,40] #list with values\n",
    "\n",
    "\n",
    "print(marks)"
   ]
  },
  {
   "cell_type": "code",
   "execution_count": 8,
   "id": "9e6fa944",
   "metadata": {},
   "outputs": [
    {
     "name": "stdout",
     "output_type": "stream",
     "text": [
      "90\n",
      "80\n",
      "50\n",
      "40\n"
     ]
    }
   ],
   "source": [
    "print(marks[0]) #accessing first element\n",
    "print(marks[1]) #accessing second element\n",
    "print(marks[4])\n",
    "\n",
    "print(marks[5]) #accessing last element"
   ]
  },
  {
   "cell_type": "code",
   "execution_count": 9,
   "id": "df0c7f40",
   "metadata": {},
   "outputs": [
    {
     "name": "stdout",
     "output_type": "stream",
     "text": [
      "40\n"
     ]
    }
   ],
   "source": [
    "marks=[90,80,70,60,50,40] \n",
    "\n",
    "\n",
    "print(marks[-1]) #accessing last element using negative index (circular indexing)"
   ]
  },
  {
   "cell_type": "code",
   "execution_count": 10,
   "id": "327e295a",
   "metadata": {},
   "outputs": [
    {
     "name": "stdout",
     "output_type": "stream",
     "text": [
      "5\n"
     ]
    }
   ],
   "source": [
    "names=[\"nirmal\",\"nithin\",\"nithya\",\"nishad\",\"nisha\"]\n",
    "\n",
    "print(len(names))"
   ]
  },
  {
   "cell_type": "code",
   "execution_count": 13,
   "id": "a3307d5a",
   "metadata": {},
   "outputs": [
    {
     "name": "stdout",
     "output_type": "stream",
     "text": [
      "[10]\n",
      "[10, 20]\n",
      "[10, 20, 30]\n"
     ]
    }
   ],
   "source": [
    "#add elements to the list\n",
    "data=[]\n",
    "\n",
    "data.append(10)\n",
    "print(data)\n",
    "\n",
    "\n",
    "data.append(20)\n",
    "print(data)\n",
    "\n",
    "data.append(30)\n",
    "print(data)\n",
    "\n"
   ]
  },
  {
   "cell_type": "code",
   "execution_count": 20,
   "id": "3021fc76",
   "metadata": {},
   "outputs": [
    {
     "name": "stdout",
     "output_type": "stream",
     "text": [
      "[1, 2, 3, 4, 5, 6, 7]\n"
     ]
    }
   ],
   "source": [
    "a=[1,2,3,4,5]\n",
    "\n",
    "a.append(6)\n",
    "a.append(7)\n",
    "\n",
    "print(a)"
   ]
  },
  {
   "cell_type": "code",
   "execution_count": null,
   "id": "bd04997e",
   "metadata": {},
   "outputs": [
    {
     "name": "stdout",
     "output_type": "stream",
     "text": [
      "[1, 2, 3, 4, 5, 6, 7, 8, 9, 10]\n",
      "[1, 2, 3, 4, 5, 6, 7, 8, 9]\n",
      "[1, 2, 3, 4, 5, 6, 7, 8]\n"
     ]
    }
   ],
   "source": [
    "#remove elements from the list\n",
    "#lists uses the LIFO (Last In First Out) principle\n",
    "x=[1,2,3,4,5,6,7,8,9,10]\n",
    "print(x)\n",
    "\n",
    "\n",
    "x.pop()\n",
    "print(x)\n",
    "\n",
    "x.pop() \n",
    "print(x)"
   ]
  },
  {
   "cell_type": "code",
   "execution_count": 23,
   "id": "2aef6df1",
   "metadata": {},
   "outputs": [
    {
     "name": "stdout",
     "output_type": "stream",
     "text": [
      "['tom', 'jerry', 'spike', 'tyke']\n",
      "['tom', 'jerry', 'tyke']\n",
      "['tom', 'tyke']\n"
     ]
    }
   ],
   "source": [
    "names=[\"tom\",\"jerry\",\"spike\",\"tyke\"]\n",
    "print(names)\n",
    "\n",
    "\n",
    "#remove spike\n",
    "names.remove(\"spike\")\n",
    "print(names)\n",
    "\n",
    "\n",
    "#remove jerry\n",
    "names.pop(1)\n",
    "print(names)"
   ]
  },
  {
   "cell_type": "code",
   "execution_count": 25,
   "id": "b2532a82",
   "metadata": {},
   "outputs": [
    {
     "name": "stdout",
     "output_type": "stream",
     "text": [
      "nirmal\n"
     ]
    },
    {
     "ename": "NameError",
     "evalue": "name 'name' is not defined",
     "output_type": "error",
     "traceback": [
      "\u001b[31m---------------------------------------------------------------------------\u001b[39m",
      "\u001b[31mNameError\u001b[39m                                 Traceback (most recent call last)",
      "\u001b[36mCell\u001b[39m\u001b[36m \u001b[39m\u001b[32mIn[25]\u001b[39m\u001b[32m, line 8\u001b[39m\n\u001b[32m      4\u001b[39m \u001b[38;5;66;03m#delet name from memory\u001b[39;00m\n\u001b[32m      6\u001b[39m \u001b[38;5;28;01mdel\u001b[39;00m name\n\u001b[32m----> \u001b[39m\u001b[32m8\u001b[39m \u001b[38;5;28mprint\u001b[39m(\u001b[43mname\u001b[49m) \u001b[38;5;66;03m#this will give an error because name is deleted from memory\u001b[39;00m\n",
      "\u001b[31mNameError\u001b[39m: name 'name' is not defined"
     ]
    }
   ],
   "source": [
    "name=\"nirmal\"\n",
    "\n",
    "print(name)\n",
    "#delet name from memory\n",
    "\n",
    "del name\n",
    "\n",
    "print(name) #this will give an error because name is deleted from memory"
   ]
  },
  {
   "cell_type": "code",
   "execution_count": null,
   "id": "9c99ed4f",
   "metadata": {},
   "outputs": [
    {
     "name": "stdout",
     "output_type": "stream",
     "text": [
      "['Bob', 'Alice', 'Charlie Chaplin', 'David']\n"
     ]
    }
   ],
   "source": [
    "#update elements in the list\n",
    "names=[\"Bob\",\"Alice\",\"Charlie\",\"David\"]\n",
    "\n",
    "names[2]=\"Charlie Chaplin\"\n",
    "print(names)\n"
   ]
  },
  {
   "cell_type": "code",
   "execution_count": null,
   "id": "bba04a00",
   "metadata": {},
   "outputs": [
    {
     "name": "stdout",
     "output_type": "stream",
     "text": [
      "[10, 20]\n",
      "[10, 20, 30]\n",
      "[40, 50, 60]\n"
     ]
    }
   ],
   "source": [
    "marks=[10,20,30,40,50,60]\n",
    "\n",
    "print(marks[0:2]) # get first 2 elements of the list (0,1)\n",
    "\n",
    "print(marks[0:3]) #get first 3 elements of the list (0,1,2)\n",
    "\n",
    "\n",
    "print(marks[3:6]) #get elements from index 3 to 5 (3,4,5)"
   ]
  },
  {
   "cell_type": "code",
   "execution_count": 32,
   "id": "8ffea7af",
   "metadata": {},
   "outputs": [
    {
     "name": "stdout",
     "output_type": "stream",
     "text": [
      "[40, 50, 60]\n"
     ]
    }
   ],
   "source": [
    "print(marks[3:])"
   ]
  },
  {
   "cell_type": "code",
   "execution_count": 31,
   "id": "ab1c9570",
   "metadata": {},
   "outputs": [
    {
     "name": "stdout",
     "output_type": "stream",
     "text": [
      "[40, 50, 60]\n"
     ]
    }
   ],
   "source": [
    "print(marks[-3:])"
   ]
  },
  {
   "cell_type": "code",
   "execution_count": 34,
   "id": "d66f1c57",
   "metadata": {},
   "outputs": [
    {
     "name": "stdout",
     "output_type": "stream",
     "text": [
      "['milk', 'bread', 'eggs', 'butter', 'cheese', 'yogurt']\n",
      "milk\n",
      "bread\n",
      "eggs\n",
      "butter\n",
      "cheese\n",
      "yogurt\n"
     ]
    }
   ],
   "source": [
    "grocery_list=[\"milk\",\"bread\",\"eggs\",\"butter\",\"cheese\",\"yogurt\"]\n",
    "\n",
    "print(grocery_list)\n",
    "\n",
    "\n",
    "for item in grocery_list:\n",
    "    print(item)"
   ]
  },
  {
   "cell_type": "code",
   "execution_count": 35,
   "id": "6c8a7f2d",
   "metadata": {},
   "outputs": [
    {
     "name": "stdout",
     "output_type": "stream",
     "text": [
      "Grocery item: milk\n",
      "Grocery item: bread\n",
      "Grocery item: eggs\n",
      "Grocery item: butter\n",
      "Grocery item: cheese\n",
      "Grocery item: yogurt\n"
     ]
    }
   ],
   "source": [
    "for item in grocery_list:\n",
    "    print(f'Grocery item: {item}')"
   ]
  },
  {
   "cell_type": "code",
   "execution_count": 37,
   "id": "3064b73b",
   "metadata": {},
   "outputs": [
    {
     "name": "stdout",
     "output_type": "stream",
     "text": [
      "Grocery item 1: milk\n",
      "Grocery item 2: bread\n",
      "Grocery item 3: eggs\n",
      "Grocery item 4: butter\n",
      "Grocery item 5: cheese\n",
      "Grocery item 6: yogurt\n"
     ]
    }
   ],
   "source": [
    "i=0\n",
    "for item in grocery_list:\n",
    "    print(f'Grocery item {i+1}: {item}')\n",
    "    i+=1"
   ]
  },
  {
   "cell_type": "code",
   "execution_count": 39,
   "id": "f6c2cf14",
   "metadata": {},
   "outputs": [
    {
     "name": "stdout",
     "output_type": "stream",
     "text": [
      "1: milk\n",
      "2: bread\n",
      "3: eggs\n",
      "4: butter\n",
      "5: cheese\n",
      "6: yogurt\n"
     ]
    }
   ],
   "source": [
    "for i,item in enumerate(grocery_list):\n",
    "    print(f'{i+1}: {item}')\n",
    "\n"
   ]
  },
  {
   "cell_type": "code",
   "execution_count": 46,
   "id": "642d26a8",
   "metadata": {},
   "outputs": [
    {
     "name": "stdout",
     "output_type": "stream",
     "text": [
      "[89, 53, 26, 92, 23, 13, 64]\n",
      "[13, 23, 26, 53, 64, 89, 92]\n",
      "[92, 89, 64, 53, 26, 23, 13]\n"
     ]
    }
   ],
   "source": [
    "marks=[89,53,26,92,23,13,64]\n",
    "print(marks)\n",
    "\n",
    "#sort the list\n",
    "\n",
    "marks.sort()  # sort in ascending order\n",
    "print(marks)\n",
    "\n",
    "\n",
    "marks.sort(reverse=True) \n",
    "print(marks)  # sort in descending order\n"
   ]
  },
  {
   "cell_type": "code",
   "execution_count": 42,
   "id": "d122abe3",
   "metadata": {},
   "outputs": [
    {
     "name": "stdout",
     "output_type": "stream",
     "text": [
      "[13, 23, 26, 53, 64, 89, 92]\n"
     ]
    }
   ],
   "source": [
    "marks=[89,53,26,92,23,13,64]\n",
    "\n",
    "\n",
    "print(sorted(marks)) #sorted function returns a new sorted list"
   ]
  },
  {
   "cell_type": "code",
   "execution_count": null,
   "id": "de2b9e1d",
   "metadata": {},
   "outputs": [
    {
     "name": "stdout",
     "output_type": "stream",
     "text": [
      "['Alice', 'Bob', 'Charlie', 'Zavid', 'alice']\n"
     ]
    }
   ],
   "source": [
    "names=[\"Bob\",\"Alice\",\"Charlie\",\"Zavid\",'alice'] \n",
    "\n",
    "print(sorted(names)) #sorted function returns a new sorted list of strings in alphabetical order"
   ]
  },
  {
   "cell_type": "code",
   "execution_count": 49,
   "id": "a82102ab",
   "metadata": {},
   "outputs": [
    {
     "name": "stdout",
     "output_type": "stream",
     "text": [
      "3\n"
     ]
    }
   ],
   "source": [
    "grocery_list=[\"milk\",\"bread\",\"eggs\",\"butter\",\"cheese\",\"yogurt\"]\n",
    "\n",
    "\n",
    "#find index of butter\n",
    "\n",
    "print(grocery_list.index(\"butter\")) #returns the index of the first occurrence of the item"
   ]
  },
  {
   "cell_type": "code",
   "execution_count": 50,
   "id": "0d388b29",
   "metadata": {},
   "outputs": [
    {
     "name": "stdout",
     "output_type": "stream",
     "text": [
      "Average marks: 55.0\n"
     ]
    }
   ],
   "source": [
    "marks=[10,20,30,40,50,60,70,80,90,100]\n",
    "\n",
    "#calculate average of marks\n",
    "\n",
    "total=0\n",
    "for mark in marks:\n",
    "    total+=mark\n",
    "\n",
    "average=total/len(marks)\n",
    "print(f'Average marks: {average}')  # print the average marks"
   ]
  },
  {
   "cell_type": "code",
   "execution_count": null,
   "id": "ffd2a117",
   "metadata": {},
   "outputs": [
    {
     "name": "stdout",
     "output_type": "stream",
     "text": [
      "55.0\n"
     ]
    }
   ],
   "source": [
    "marks=[10,20,30,40,50,60,70,80,90,100]\n",
    "\n",
    "import statistics\n",
    "\n",
    "print(statistics.mean(marks))  # calculate mean of marks using math module\n",
    "\n",
    "\n",
    "print(sum(marks)/len(marks))"
   ]
  },
  {
   "cell_type": "code",
   "execution_count": 61,
   "id": "f85e2ece",
   "metadata": {},
   "outputs": [
    {
     "name": "stdout",
     "output_type": "stream",
     "text": [
      "550\n",
      "10\n",
      "100\n"
     ]
    }
   ],
   "source": [
    "marks=[10,20,30,40,50,60,70,80,90,100]\n",
    "\n",
    "\n",
    "print(sum(marks))\n",
    "print(min(marks))  # find minimum value in the list\n",
    "print(max(marks))  # find maximum value in the list"
   ]
  },
  {
   "cell_type": "code",
   "execution_count": null,
   "id": "dcd01102",
   "metadata": {},
   "outputs": [
    {
     "name": "stdout",
     "output_type": "stream",
     "text": [
      "['Tom', 30, 'Rodirgues', False]\n"
     ]
    }
   ],
   "source": [
    "student_details=['Tom',30,'Rodirgues',False] #dynamic list with different data types\n",
    "\n",
    "print(student_details)"
   ]
  },
  {
   "cell_type": "code",
   "execution_count": 64,
   "id": "9e2da25d",
   "metadata": {},
   "outputs": [
    {
     "name": "stdout",
     "output_type": "stream",
     "text": [
      "[[1, 2, 3], [4, 5, 6], [7, 8, 9]]\n"
     ]
    }
   ],
   "source": [
    "# multi dimensional list\n",
    "\n",
    "marks=[[1,2,3],[4,5,6],[7,8,9]]\n",
    "\n",
    "print(marks)"
   ]
  },
  {
   "cell_type": "code",
   "execution_count": 4,
   "id": "1e5e522f",
   "metadata": {},
   "outputs": [
    {
     "name": "stdout",
     "output_type": "stream",
     "text": [
      "[[1 2 3]\n",
      " [4 5 6]\n",
      " [7 8 9]]\n"
     ]
    }
   ],
   "source": [
    "import numpy as np\n",
    "marks=[[1,2,3],[4,5,6],[7,8,9]]\n",
    "x=np.array(marks)\n",
    "\n",
    "print(x)"
   ]
  },
  {
   "cell_type": "code",
   "execution_count": 7,
   "id": "d76f918d",
   "metadata": {},
   "outputs": [
    {
     "name": "stdout",
     "output_type": "stream",
     "text": [
      "5\n",
      "1\n",
      "2\n",
      "3\n",
      "4\n",
      "5\n",
      "6\n",
      "7\n",
      "8\n",
      "9\n"
     ]
    }
   ],
   "source": [
    "marks=[[1,2,3],[4,5,6],[7,8,9]]\n",
    "\n",
    "\n",
    "print(marks[1][1])\n",
    "\n",
    "\n",
    "for i in marks:\n",
    "    for j in i:\n",
    "        print(j)"
   ]
  }
 ],
 "metadata": {
  "kernelspec": {
   "display_name": "Python 3",
   "language": "python",
   "name": "python3"
  },
  "language_info": {
   "codemirror_mode": {
    "name": "ipython",
    "version": 3
   },
   "file_extension": ".py",
   "mimetype": "text/x-python",
   "name": "python",
   "nbconvert_exporter": "python",
   "pygments_lexer": "ipython3",
   "version": "3.13.4"
  }
 },
 "nbformat": 4,
 "nbformat_minor": 5
}
