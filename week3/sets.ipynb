{
 "cells": [
  {
   "cell_type": "code",
   "execution_count": 1,
   "id": "8db1ec83",
   "metadata": {},
   "outputs": [
    {
     "name": "stdout",
     "output_type": "stream",
     "text": [
      "{1, 2, 3, 4, 5}\n"
     ]
    }
   ],
   "source": [
    "#dfefining a set\n",
    "\n",
    "a={1,2,3,4,5} #defining a set of numbers\n",
    "\n",
    "print(a) #printing the set"
   ]
  },
  {
   "cell_type": "code",
   "execution_count": 2,
   "id": "c925401a",
   "metadata": {},
   "outputs": [
    {
     "name": "stdout",
     "output_type": "stream",
     "text": [
      "{1, 2, 3}\n"
     ]
    }
   ],
   "source": [
    "b={1,1,1,1,1,1,2,2,2,2,3,3,3}\n",
    "print(b)"
   ]
  },
  {
   "cell_type": "code",
   "execution_count": 3,
   "id": "0b6b250e",
   "metadata": {},
   "outputs": [
    {
     "ename": "TypeError",
     "evalue": "'set' object is not subscriptable",
     "output_type": "error",
     "traceback": [
      "\u001b[31m---------------------------------------------------------------------------\u001b[39m",
      "\u001b[31mTypeError\u001b[39m                                 Traceback (most recent call last)",
      "\u001b[36mCell\u001b[39m\u001b[36m \u001b[39m\u001b[32mIn[3]\u001b[39m\u001b[32m, line 3\u001b[39m\n\u001b[32m      1\u001b[39m c={\u001b[32m5\u001b[39m,\u001b[32m6\u001b[39m,\u001b[32m7\u001b[39m,\u001b[32m8\u001b[39m}\n\u001b[32m----> \u001b[39m\u001b[32m3\u001b[39m \u001b[38;5;28mprint\u001b[39m(\u001b[43mc\u001b[49m\u001b[43m[\u001b[49m\u001b[32;43m0\u001b[39;49m\u001b[43m]\u001b[49m) \u001b[38;5;66;03m#tr ying to access the first element of the set - this will raise an error because sets are unordered and do not support indexing\u001b[39;00m\n",
      "\u001b[31mTypeError\u001b[39m: 'set' object is not subscriptable"
     ]
    }
   ],
   "source": [
    "c={5,6,7,8}\n",
    "\n",
    "print(c[0]) #tr ying to access the first element of the set - this will raise an error because sets are unordered and do not support indexing"
   ]
  },
  {
   "cell_type": "code",
   "execution_count": 5,
   "id": "a5274a16",
   "metadata": {},
   "outputs": [
    {
     "name": "stdout",
     "output_type": "stream",
     "text": [
      "{1, 2, 3, 4, 5, 6}\n",
      "{2, 3, 4, 5, 6}\n"
     ]
    }
   ],
   "source": [
    "d={1,2,3,4}\n",
    "\n",
    "d.add(5) #adding an element to the set\n",
    "d.add(6)\n",
    "print(d)\n",
    "\n",
    "d.remove(1) #removing an element from the set\n",
    "print(d)"
   ]
  },
  {
   "cell_type": "code",
   "execution_count": null,
   "id": "0dcef749",
   "metadata": {},
   "outputs": [
    {
     "name": "stdout",
     "output_type": "stream",
     "text": [
      "{1, 2, 3, 4, 5, 6, 7}\n",
      "{3, 4, 5}\n"
     ]
    }
   ],
   "source": [
    "#set functions\n",
    "\n",
    "a={1,2,3,4,5} #defining a set of numbers\n",
    "b={3,4,5,6,7} #defining another set of numbers\n",
    "\n",
    "\n",
    "print(a.union(b)) #union of two sets - combines all unique elements from both sets\n",
    "\n",
    "print(a.intersection(b)) #intersection of two sets - returns only the elements that are present in both sets\n"
   ]
  },
  {
   "cell_type": "code",
   "execution_count": 8,
   "id": "b210758a",
   "metadata": {},
   "outputs": [
    {
     "name": "stdout",
     "output_type": "stream",
     "text": [
      "1\n",
      "2\n",
      "3\n",
      "4\n",
      "5\n"
     ]
    }
   ],
   "source": [
    "for item in a:\n",
    "    print(item) #iterating through the set and printing each element"
   ]
  }
 ],
 "metadata": {
  "kernelspec": {
   "display_name": "Python 3",
   "language": "python",
   "name": "python3"
  },
  "language_info": {
   "codemirror_mode": {
    "name": "ipython",
    "version": 3
   },
   "file_extension": ".py",
   "mimetype": "text/x-python",
   "name": "python",
   "nbconvert_exporter": "python",
   "pygments_lexer": "ipython3",
   "version": "3.13.4"
  }
 },
 "nbformat": 4,
 "nbformat_minor": 5
}
